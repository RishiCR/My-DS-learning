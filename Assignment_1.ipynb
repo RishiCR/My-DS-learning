{
 "cells": [
  {
   "cell_type": "raw",
   "id": "520a129a",
   "metadata": {},
   "source": [
    "Q1. In the below elements which of them are values or an expression? eg:- values can be integer or string and expressions will be mathematical operators.\n",
    "* \n",
    " 'hello'\n",
    " -87.8\n",
    "  - \n",
    "  / \n",
    "  +\t\n",
    "  6 \n",
    " \n"
   ]
  },
  {
   "cell_type": "raw",
   "id": "740354ba",
   "metadata": {},
   "source": [
    "A1.VALUES-'hello', -87.8,6\n",
    "   Expressions- -,/,+"
   ]
  },
  {
   "cell_type": "raw",
   "id": "74df01a8",
   "metadata": {},
   "source": [
    "Q2. What is the difference between string and variable?"
   ]
  },
  {
   "cell_type": "raw",
   "id": "169bf6f9",
   "metadata": {},
   "source": [
    "A2:Variable is a place where you can store any information\n",
    "   String is the type of information you want to store\n",
    "   "
   ]
  },
  {
   "cell_type": "raw",
   "id": "d14397c4",
   "metadata": {},
   "source": [
    "Q3.Describe three different data types.\n",
    "\n",
    "A3: a.List- It is an array containing various types of data such as string,int or even a dictionary etc, and they are mutable in nature.\n",
    "    \n",
    "    b.Tuple- is also a sequence data type that can contain elements of different data types, but these are immutable in nature.\n",
    "    \n",
    "    c.Dictionary -Dictionary items are presented in key:value pairs, and can be referred to by using the key name.They do not allow duplicated"
   ]
  },
  {
   "cell_type": "raw",
   "id": "14674a69",
   "metadata": {},
   "source": [
    "Q4. What is an expression made up of? What do all expressions do?\n",
    "\n",
    "A4: Expressions are basically made of mathematical operators. They helps in calculating the output of 2 mathematical variables. "
   ]
  },
  {
   "cell_type": "raw",
   "id": "4602349c",
   "metadata": {},
   "source": [
    "Q5. This assignment statements, like spam = 10. What is the difference between an expression and a statement?\n",
    "\n",
    "A5.Expressions is combination of values helps in returning a new value, for example 1+3 reurn 4.\n",
    "   Statements does not return a new value"
   ]
  },
  {
   "cell_type": "raw",
   "id": "49fc83a5",
   "metadata": {},
   "source": [
    "Q6. After running the following code, what does the variable bacon contain?\n",
    "bacon = 22\n",
    "bacon + 1\n"
   ]
  },
  {
   "cell_type": "code",
   "execution_count": 4,
   "id": "b8f01a10",
   "metadata": {},
   "outputs": [
    {
     "name": "stdout",
     "output_type": "stream",
     "text": [
      "22\n"
     ]
    }
   ],
   "source": [
    "bacon = 22\n",
    "bacon + 1\n",
    "print(bacon)"
   ]
  },
  {
   "cell_type": "raw",
   "id": "981c0094",
   "metadata": {},
   "source": [
    "Q7.7. What should the values of the following two terms be?\n",
    "'spam' + 'spamspam'\n",
    "'spam' * 3\n"
   ]
  },
  {
   "cell_type": "code",
   "execution_count": 5,
   "id": "c2545cf4",
   "metadata": {},
   "outputs": [
    {
     "data": {
      "text/plain": [
       "'spamspamspam'"
      ]
     },
     "execution_count": 5,
     "metadata": {},
     "output_type": "execute_result"
    }
   ],
   "source": [
    "'spam' + 'spamspam'"
   ]
  },
  {
   "cell_type": "code",
   "execution_count": 6,
   "id": "9a6be402",
   "metadata": {},
   "outputs": [
    {
     "data": {
      "text/plain": [
       "'spamspamspam'"
      ]
     },
     "execution_count": 6,
     "metadata": {},
     "output_type": "execute_result"
    }
   ],
   "source": [
    "'spam' * 3\n"
   ]
  },
  {
   "cell_type": "raw",
   "id": "cb6f9e2e",
   "metadata": {},
   "source": [
    "8. Why is eggs a valid variable name while 100 is invalid?"
   ]
  },
  {
   "cell_type": "raw",
   "id": "e71455cb",
   "metadata": {},
   "source": [
    "A8.Because an integer cannot be a variable name"
   ]
  },
  {
   "cell_type": "raw",
   "id": "2e913f2e",
   "metadata": {},
   "source": [
    "Q9. What three functions can be used to get the integer, floating-point number, or string version of a value?"
   ]
  },
  {
   "cell_type": "raw",
   "id": "ee8881c2",
   "metadata": {},
   "source": [
    "A9:Int(),float(),str()"
   ]
  },
  {
   "cell_type": "raw",
   "id": "35265c36",
   "metadata": {},
   "source": [
    "Q10. Why does this expression cause an error? How can you fix it?\n",
    "'I have eaten ' + 99 + ' burritos.'"
   ]
  },
  {
   "cell_type": "raw",
   "id": "878a83f3",
   "metadata": {},
   "source": [
    "A10: Because an integer and a string cannot be summed together.\n",
    "\n",
    "Its solution will be 'I have eaten ' + '99' + ' burritos.'"
   ]
  },
  {
   "cell_type": "code",
   "execution_count": 9,
   "id": "6593fdf4",
   "metadata": {},
   "outputs": [
    {
     "data": {
      "text/plain": [
       "'I have eaten 99 burritos.'"
      ]
     },
     "execution_count": 9,
     "metadata": {},
     "output_type": "execute_result"
    }
   ],
   "source": [
    "'I have eaten ' + '99' + ' burritos.'"
   ]
  },
  {
   "cell_type": "code",
   "execution_count": null,
   "id": "1df96aeb",
   "metadata": {},
   "outputs": [],
   "source": []
  }
 ],
 "metadata": {
  "kernelspec": {
   "display_name": "Python 3 (ipykernel)",
   "language": "python",
   "name": "python3"
  },
  "language_info": {
   "codemirror_mode": {
    "name": "ipython",
    "version": 3
   },
   "file_extension": ".py",
   "mimetype": "text/x-python",
   "name": "python",
   "nbconvert_exporter": "python",
   "pygments_lexer": "ipython3",
   "version": "3.9.12"
  }
 },
 "nbformat": 4,
 "nbformat_minor": 5
}
