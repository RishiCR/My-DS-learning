{
 "cells": [
  {
   "cell_type": "markdown",
   "id": "7004e99d",
   "metadata": {},
   "source": [
    "Q1.Write a Python program to convert kilometers to miles?"
   ]
  },
  {
   "cell_type": "code",
   "execution_count": 26,
   "id": "c067d47f",
   "metadata": {},
   "outputs": [
    {
     "name": "stdout",
     "output_type": "stream",
     "text": [
      "Enter the Value in kilometers to convert it to miles ?78\n",
      "The value n miles is : 48.47\n"
     ]
    }
   ],
   "source": [
    "a=float(input(\"Enter the Value in kilometers to convert it to miles ?\"))\n",
    "\n",
    "b=a* 0.62137119\n",
    "\n",
    "print(\"The value n miles is :\",round(b,2))"
   ]
  },
  {
   "cell_type": "markdown",
   "id": "34437487",
   "metadata": {},
   "source": [
    "Q2.Write a Python program to convert Celsius to Fahrenheit?"
   ]
  },
  {
   "cell_type": "code",
   "execution_count": 12,
   "id": "0e21cc6b",
   "metadata": {},
   "outputs": [
    {
     "name": "stdout",
     "output_type": "stream",
     "text": [
      "enter the value of Celsius : 89\n",
      "the value in Fahrenheit is :  192.2\n"
     ]
    }
   ],
   "source": [
    "celsius=float(input(\"enter the value of Celsius : \"))\n",
    "Fahrenheit=(celsius*1.8)+32\n",
    "print(\"the value in Fahrenheit is : \",round(Fahrenheit,2))"
   ]
  },
  {
   "cell_type": "markdown",
   "id": "514a5baa",
   "metadata": {},
   "source": [
    "Q3.Write a Python program to display calendar?"
   ]
  },
  {
   "cell_type": "code",
   "execution_count": 17,
   "id": "895f56b6",
   "metadata": {},
   "outputs": [
    {
     "name": "stdout",
     "output_type": "stream",
     "text": [
      "enter Year 2001\n",
      "enter Month 1\n",
      "    January 2001\n",
      "Mo Tu We Th Fr Sa Su\n",
      " 1  2  3  4  5  6  7\n",
      " 8  9 10 11 12 13 14\n",
      "15 16 17 18 19 20 21\n",
      "22 23 24 25 26 27 28\n",
      "29 30 31\n",
      "\n"
     ]
    }
   ],
   "source": [
    "import calendar\n",
    " \n",
    "yy = int(input(\"enter Year \"))\n",
    "mm = int(input(\"enter Month \"))\n",
    " \n",
    "# display the calendar\n",
    "print(calendar.month(yy, mm))"
   ]
  },
  {
   "cell_type": "markdown",
   "id": "75e25867",
   "metadata": {},
   "source": [
    "Q4.Write a Python program to solve quadratic equation?\n"
   ]
  },
  {
   "cell_type": "code",
   "execution_count": 28,
   "id": "27bc6393",
   "metadata": {},
   "outputs": [
    {
     "name": "stdout",
     "output_type": "stream",
     "text": [
      " real and different roots \n",
      "4.0\n",
      "1.0\n"
     ]
    }
   ],
   "source": [
    "import math \n",
    "  \n",
    "  \n",
    "# function for finding roots\n",
    "def equationroots( a, b, c): \n",
    "  \n",
    "    # calculating discriminant using formula\n",
    "    dis = b * b - 4 * a * c \n",
    "    sqrt_val = math.sqrt(abs(dis)) \n",
    "      \n",
    "    # checking condition for discriminant\n",
    "    if dis > 0: \n",
    "        print(\" real and different roots \") \n",
    "        print((-b + sqrt_val)/(2 * a)) \n",
    "        print((-b - sqrt_val)/(2 * a)) \n",
    "      \n",
    "    elif dis == 0: \n",
    "        print(\" real and same roots\") \n",
    "        print(-b / (2 * a)) \n",
    "      \n",
    "    # when discriminant is less than 0\n",
    "    else:\n",
    "        print(\"Complex Roots\") \n",
    "        print(- b / (2 * a), \" + i\", sqrt_val) \n",
    "        print(- b / (2 * a), \" - i\", sqrt_val) \n",
    "        \n",
    "\n",
    "equationroots(10, -50, 40)      "
   ]
  },
  {
   "cell_type": "markdown",
   "id": "e2d6ac1a",
   "metadata": {},
   "source": [
    "Q5.Write a Python program to swap two variables without temp variable?"
   ]
  },
  {
   "cell_type": "code",
   "execution_count": 30,
   "id": "fc88f6c4",
   "metadata": {},
   "outputs": [
    {
     "name": "stdout",
     "output_type": "stream",
     "text": [
      "Enter the 1st value5\n",
      "Enter the 2nd value10\n",
      "the value of 1st before swapped is 5 the value of 2nd before swapped is  10\n",
      "The value of 1st after swapped is  10 The value of 2nd after swapped is 5\n"
     ]
    }
   ],
   "source": [
    "a=int(input(\"Enter the 1st value\"))\n",
    "b=int(input(\"Enter the 2nd value\"))\n",
    "print(\"the value of 1st before swapped is\",a,\"the value of 2nd before swapped is \",b)\n",
    "a,b=b,a\n",
    "\n",
    "print(\"The value of 1st after swapped is \",a,\"The value of 2nd after swapped is\",b)"
   ]
  },
  {
   "cell_type": "code",
   "execution_count": null,
   "id": "b3e6eb11",
   "metadata": {},
   "outputs": [],
   "source": []
  }
 ],
 "metadata": {
  "kernelspec": {
   "display_name": "Python 3 (ipykernel)",
   "language": "python",
   "name": "python3"
  },
  "language_info": {
   "codemirror_mode": {
    "name": "ipython",
    "version": 3
   },
   "file_extension": ".py",
   "mimetype": "text/x-python",
   "name": "python",
   "nbconvert_exporter": "python",
   "pygments_lexer": "ipython3",
   "version": "3.9.12"
  }
 },
 "nbformat": 4,
 "nbformat_minor": 5
}
