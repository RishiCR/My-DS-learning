{
 "cells": [
  {
   "cell_type": "code",
   "execution_count": 2,
   "id": "a7dfba2d",
   "metadata": {},
   "outputs": [
    {
     "name": "stdout",
     "output_type": "stream",
     "text": [
      "Hello Python\n"
     ]
    }
   ],
   "source": [
    "#1.\tWrite a Python program to print \"Hello Python\"?\n",
    "print(\"Hello Python\")"
   ]
  },
  {
   "cell_type": "code",
   "execution_count": 6,
   "id": "c4bf3b3d",
   "metadata": {},
   "outputs": [
    {
     "name": "stdout",
     "output_type": "stream",
     "text": [
      "enter the first number?5\n",
      "enter the second number?7\n",
      "Addition result is : 12.0 Division Result is : 0.7142857142857143\n"
     ]
    }
   ],
   "source": [
    "#2Write a Python program to do arithmetical operations addition and division.?\n",
    "a=float(input(\"enter the first number?\"))\n",
    "b=float(input(\"enter the second number?\"))\n",
    "c=a+b\n",
    "d=a/b\n",
    "print(\"Addition result is :\",c,\"Division Result is :\",d)"
   ]
  },
  {
   "cell_type": "code",
   "execution_count": 8,
   "id": "23d38a1f",
   "metadata": {},
   "outputs": [
    {
     "name": "stdout",
     "output_type": "stream",
     "text": [
      "enter the base of the triangle?10\n",
      "enter the height of the triangle?20\n",
      "100.0\n"
     ]
    }
   ],
   "source": [
    "#3.Write a Python program to find the area of a triangle?\n",
    "b=float(input(\"enter the base of the triangle?\"))\n",
    "h=float(input(\"enter the height of the triangle?\"))\n",
    "a=0.5*b*h\n",
    "print(a)"
   ]
  },
  {
   "cell_type": "code",
   "execution_count": 13,
   "id": "567eb9e9",
   "metadata": {},
   "outputs": [
    {
     "name": "stdout",
     "output_type": "stream",
     "text": [
      "enter 1st value10\n",
      "enter 2nd value20\n",
      "value of 1st value now : 20 value of 2nd value now : 10\n"
     ]
    }
   ],
   "source": [
    "#4.\tWrite a Python program to swap two variables?\n",
    "a=int(input(\"enter 1st value\"))\n",
    "b=int(input(\"enter 2nd value\"))\n",
    "temp=a\n",
    "a=b\n",
    "b=temp\n",
    "print(\"value of 1st value now :\",a,\"value of 2nd value now :\",b)"
   ]
  },
  {
   "cell_type": "code",
   "execution_count": 3,
   "id": "d9164134",
   "metadata": {},
   "outputs": [
    {
     "name": "stdout",
     "output_type": "stream",
     "text": [
      "6958298\n"
     ]
    }
   ],
   "source": [
    "#5.Write a Python program to generate a random number?\n",
    "import random\n",
    "n=random.randint(0,10000000)\n",
    "print(n)\n"
   ]
  },
  {
   "cell_type": "code",
   "execution_count": 2,
   "id": "cf7a4539",
   "metadata": {},
   "outputs": [
    {
     "name": "stdout",
     "output_type": "stream",
     "text": [
      "42\n"
     ]
    }
   ],
   "source": [
    " "
   ]
  },
  {
   "cell_type": "code",
   "execution_count": null,
   "id": "bc2ac6f5",
   "metadata": {},
   "outputs": [],
   "source": []
  }
 ],
 "metadata": {
  "kernelspec": {
   "display_name": "Python 3 (ipykernel)",
   "language": "python",
   "name": "python3"
  },
  "language_info": {
   "codemirror_mode": {
    "name": "ipython",
    "version": 3
   },
   "file_extension": ".py",
   "mimetype": "text/x-python",
   "name": "python",
   "nbconvert_exporter": "python",
   "pygments_lexer": "ipython3",
   "version": "3.9.12"
  }
 },
 "nbformat": 4,
 "nbformat_minor": 5
}
